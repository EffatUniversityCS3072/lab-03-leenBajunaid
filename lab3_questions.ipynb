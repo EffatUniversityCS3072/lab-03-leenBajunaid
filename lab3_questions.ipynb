{
 "cells": [
  {
   "cell_type": "markdown",
   "id": "26cf5d84-cfef-4446-8191-d3243e5287f6",
   "metadata": {},
   "source": [
    "## Lab 3: pandas\n",
    "\n",
    "#### Introduction\n",
    "\n",
    "We will examine a dataset containing characteristics of lego sets manufactured between 1961 and 2019 from the BRICKSET website. Variables in the dataset are described below.\n",
    "\n",
    "| VARIABLE             |      DESCRIPTION             |\n",
    "|:----------|:-------------|\n",
    "| ID |  set id |\n",
    "| Name |    name of set   |\n",
    "| Themegroup | themegroup of set |\n",
    "| Theme |  theme of set |\n",
    "| Subtheme |    subtheme of set   |\n",
    "| Year | year released |\n",
    "| Pieces |  number of pieces |\n",
    "| Minifig |    number of minifigs   |\n",
    "| Package | type of packaging |\n",
    "| Retail_Price |  recommended retail pri\n",
    "\n",
    "\n",
    "\n",
    "Load pandas to read in the data and save it as dataframe named lego."
   ]
  },
  {
   "cell_type": "code",
   "execution_count": 5,
   "id": "c5749932-fc68-41af-9354-8ef58288707f",
   "metadata": {},
   "outputs": [
    {
     "name": "stdout",
     "output_type": "stream",
     "text": [
      "                id                      name     themegroup           theme  \\\n",
      "0      100STORES-1     100 Stores minifigure  Miscellaneous     Promotional   \n",
      "1          10264-1             Corner Garage   Model making  Creator Expert   \n",
      "2          10265-1              Ford Mustang   Model making  Creator Expert   \n",
      "3          10766-1                Woody & RC       Licensed       Toy Story   \n",
      "4          10769-1               RV Vacation       Licensed       Toy Story   \n",
      "...            ...                       ...            ...             ...   \n",
      "12209       1240-2              8 Road Signs          Basic          System   \n",
      "12210       1241-2              8 Road Signs          Basic          System   \n",
      "12211       1247-2           Esso Pumps/Sign          Basic          System   \n",
      "12212       1248-2  Painted Trees and Bushes          Basic          System   \n",
      "12213       1300-1   Lego Mosaik Set (Small)          Basic          System   \n",
      "\n",
      "                subtheme    year  pieces  minifigs       package  retail_price  \n",
      "0      LEGO brand stores  2019.0     NaN         0  Blister pack           NaN  \n",
      "1      Modular Buildings  2019.0  2569.0         6           Box        199.99  \n",
      "2               Vehicles  2019.0  1471.0         0           Box        149.99  \n",
      "3            Toy Story 4  2019.0    69.0         0           Box          9.99  \n",
      "4            Toy Story 4  2019.0   178.0         0           Box         34.99  \n",
      "...                  ...     ...     ...       ...           ...           ...  \n",
      "12209       Supplemental  1955.0     NaN         0           NaN           NaN  \n",
      "12210       Supplemental  1955.0     NaN         0           NaN           NaN  \n",
      "12211       Supplemental  1955.0     NaN         0           NaN           NaN  \n",
      "12212       Supplemental  1955.0     NaN         0           NaN           NaN  \n",
      "12213             Mosaic  1955.0     NaN         0           NaN           NaN  \n",
      "\n",
      "[12214 rows x 10 columns]\n"
     ]
    }
   ],
   "source": [
    "# import sys\n",
    "# print(sys.executable)\n",
    "# !{sys.executable} -m pip install pandas numpy\n",
    "\n",
    "import pandas as pd\n",
    "\n",
    "lego = pd.read_csv('lego.csv')\n"
   ]
  },
  {
   "cell_type": "markdown",
   "id": "cc9d92c3-501a-4b50-a345-806b102b6a76",
   "metadata": {},
   "source": [
    "#### Question 1:\n",
    "Some sets have missing information for retail_price or pieces or both. This could be because the sets are free (giveaways), they aren’t traditional lego sets (comic books, etc) or just because the information is missing. Filter the lego dataset based on the specifications below and save the result as lego. Hence, you will overwrite the original lego object. In addition, describe the implications of removing these sets.\n",
    "\n",
    "Your new lego (data frame) should have:\n",
    "\n",
    "• no missing pieces\n",
    "\n",
    "• only contain sets with a nonzero number of pieces\n",
    "\n",
    "• no missing retail_price\n",
    "\n",
    "• only contain sets with a nonzero retail_price\n",
    "\n",
    "• no missing year\n",
    "\n",
    "- Print out the shape of the dataframe after cleaning the dataset.\n",
    "- "
   ]
  },
  {
   "cell_type": "code",
   "execution_count": 6,
   "id": "9d5c1301-b2ee-4c0d-9b5a-5a8a3e625ecd",
   "metadata": {},
   "outputs": [
    {
     "name": "stdout",
     "output_type": "stream",
     "text": [
      "cleaned dataset: (7213, 10)\n"
     ]
    }
   ],
   "source": [
    "import pandas as pd\n",
    "\n",
    "# Load the data\n",
    "lego = pd.read_csv('lego.csv')\n",
    "\n",
    "# Filter the data as specified\n",
    "lego = lego.dropna(subset=['pieces', 'retail_price', 'year'])\n",
    "lego = lego[(lego['pieces'] > 0) & (lego['retail_price'] > 0)]\n",
    "\n",
    "# Print the shape of the dataframe after cleaning\n",
    "print(\"cleaned dataset:\", lego.shape)\n",
    "\n"
   ]
  },
  {
   "cell_type": "markdown",
   "id": "1193e396-77f1-48d9-a378-141f9ae0b491",
   "metadata": {},
   "source": [
    "#### Question 2:\t\n",
    "Arrange the dataset in descending order of retail_price and print the first three rows. Report in words the names of the three most expensive lego sets, their prices, and how many pieces each has."
   ]
  },
  {
   "cell_type": "code",
   "execution_count": 11,
   "id": "434c3555-0556-4332-a5c7-944834f407b8",
   "metadata": {},
   "outputs": [
    {
     "name": "stdout",
     "output_type": "stream",
     "text": [
      "                                        name  retail_price  pieces\n",
      "1434                       Millennium Falcon        799.99  7541.0\n",
      "3426                         Connections Kit        754.99  2455.0\n",
      "5944  Ultimate Collector's Millennium Falcon        499.99  5197.0\n",
      "The set 'Millennium Falcon' costs $799.99 and has 7541 pieces.\n",
      "The set 'Connections Kit' costs $754.99 and has 2455 pieces.\n",
      "The set 'Ultimate Collector's Millennium Falcon' costs $499.99 and has 5197 pieces.\n"
     ]
    }
   ],
   "source": [
    "import pandas as ps \n",
    "lego = pd.read_csv('lego.csv')\n",
    "\n",
    "\n",
    "lego = lego.dropna(subset=['pieces', 'retail_price', 'year'])\n",
    "lego = lego[(lego['pieces'] > 0) & (lego['retail_price'] > 0)]\n",
    "\n",
    "\n",
    "top_expensive_sets = lego.sort_values(by='retail_price', ascending=False).head(3)\n",
    "print(top_expensive_sets[['name', 'retail_price', 'pieces']])\n",
    "\n",
    "\n",
    "for index, row in top_expensive_sets.iterrows():\n",
    "    print(f\"The set '{row['name']}' costs ${row['retail_price']:.2f} and has {int(row['pieces'])} pieces.\")\n",
    "\n"
   ]
  },
  {
   "cell_type": "markdown",
   "id": "e972d030-9086-4b6f-b4bf-02d61bd5b2af",
   "metadata": {},
   "source": [
    "#### Question 3:\n",
    "\n",
    "It appears that the most expensive sets generally have more pieces. Create a new variable (column) price_per_piece, representing the price in dollars per piece for each of the sets. Save the result as lego2. Hence, you will overwrite the current lego object."
   ]
  },
  {
   "cell_type": "code",
   "execution_count": 14,
   "id": "8061514b-9a20-45d0-9998-75f3ca9b1bc4",
   "metadata": {},
   "outputs": [
    {
     "name": "stdout",
     "output_type": "stream",
     "text": [
      "                             name  retail_price  pieces  price_per_piece\n",
      "1                   Corner Garage        199.99  2569.0         0.077847\n",
      "2                    Ford Mustang        149.99  1471.0         0.101965\n",
      "3                      Woody & RC          9.99    69.0         0.144783\n",
      "4                     RV Vacation         34.99   178.0         0.196573\n",
      "5  Buzz & Woody's Carnival Mania!         49.99   230.0         0.217348\n"
     ]
    }
   ],
   "source": [
    "import pandas as pd\n",
    "\n",
    "# Load the data\n",
    "lego = pd.read_csv('lego.csv')\n",
    "\n",
    "# Clean the data: filter out rows where 'pieces' or 'retail_price' is missing or zero, and 'year' is missing\n",
    "lego = lego.dropna(subset=['pieces', 'retail_price', 'year'])\n",
    "lego = lego[(lego['pieces'] > 0) & (lego['retail_price'] > 0)]\n",
    "\n",
    "# Calculate price per piece\n",
    "lego['price_per_piece'] = lego['retail_price'] / lego['pieces']\n",
    "\n",
    "# Saving the result as lego2, which overwrites the original lego object\n",
    "lego2 = lego\n",
    "\n",
    "# Display the first few rows to verify the new column\n",
    "print(lego2[['name', 'retail_price', 'pieces', 'price_per_piece']].head())\n",
    "\n"
   ]
  },
  {
   "cell_type": "markdown",
   "id": "a66016ad-869d-4412-b809-749423e9c8d2",
   "metadata": {},
   "source": [
    "#### Question 4:\t\n",
    "\n",
    "Arrange the lego2 dataset in descending order of price_per_piece and return only the columns: name, themegroup, theme, pieces, price_per_piece, and the first five rows. What do you notice about these sets?"
   ]
  },
  {
   "cell_type": "code",
   "execution_count": 15,
   "id": "e4e623ce-d4d4-44d6-86a0-881a04eebf11",
   "metadata": {},
   "outputs": [
    {
     "name": "stdout",
     "output_type": "stream",
     "text": [
      "                               name   themegroup       theme  pieces  \\\n",
      "3586          EV3 Intelligent Brick    Technical  Mindstorms     1.0   \n",
      "6452          NXT Intelligent Brick    Technical  Mindstorms     1.0   \n",
      "5298  Intelligent NXT Brick (Black)    Technical  Mindstorms     1.0   \n",
      "9029    RCX Programmable LEGO Brick    Technical  Mindstorms     1.0   \n",
      "5272    NXT DC Rechargeable Battery  Educational   Education     1.0   \n",
      "\n",
      "      price_per_piece  \n",
      "3586           204.99  \n",
      "6452           169.99  \n",
      "5298           169.99  \n",
      "9029           110.00  \n",
      "5272            79.99  \n"
     ]
    }
   ],
   "source": [
    "import pandas as pd\n",
    "\n",
    "\n",
    "lego = pd.read_csv('lego.csv')\n",
    "lego = lego.dropna(subset=['pieces', 'retail_price', 'year'])\n",
    "lego = lego[(lego['pieces'] > 0) & (lego['retail_price'] > 0)]\n",
    "\n",
    "\n",
    "lego['price_per_piece'] = lego['retail_price'] / lego['pieces']\n",
    "\n",
    "\n",
    "lego2 = lego.sort_values(by='price_per_piece', ascending=False)\n",
    "\n",
    "top_sets_by_price_per_piece = lego2[['name', 'themegroup', 'theme', 'pieces', 'price_per_piece']].head(5)\n",
    "print(top_sets_by_price_per_piece)\n",
    "\n",
    "\n"
   ]
  },
  {
   "cell_type": "markdown",
   "id": "1603a4f2-1e28-43e9-8677-87dcfaf61912",
   "metadata": {},
   "source": [
    "#### Question 5:\n",
    "\n",
    "What is the mean price_per_piece for the top 40 'Toy Story' sets in terms of price_per_piece?"
   ]
  },
  {
   "cell_type": "code",
   "execution_count": 16,
   "id": "af76d9ef-a022-4e73-97f4-ba3899219d8b",
   "metadata": {},
   "outputs": [
    {
     "name": "stdout",
     "output_type": "stream",
     "text": [
      "The mean price per piece for the top 40 'Toy Story' sets is $0.15\n"
     ]
    }
   ],
   "source": [
    "import pandas as pd\n",
    "\n",
    "\n",
    "lego = pd.read_csv('lego.csv')\n",
    "lego = lego.dropna(subset=['pieces', 'retail_price', 'year'])\n",
    "lego = lego[(lego['pieces'] > 0) & (lego['retail_price'] > 0)]\n",
    "\n",
    "# Create a new column for price per piece\n",
    "lego['price_per_piece'] = lego['retail_price'] / lego['pieces']\n",
    "\n",
    "# Filter for 'Toy Story' theme sets and sort by price_per_piece\n",
    "toy_story_sets = lego[lego['theme'] == 'Toy Story'].sort_values(by='price_per_piece', ascending=False)\n",
    "\n",
    "# Get the top 40 sets\n",
    "top_40_toy_story_sets = toy_story_sets.head(40)\n",
    "\n",
    "# Calculate the mean price per piece for these sets\n",
    "mean_price_per_piece = top_40_toy_story_sets['price_per_piece'].mean()\n",
    "print(f\"The mean price per piece for the top 40 'Toy Story' sets is ${mean_price_per_piece:.2f}\")\n",
    "\n",
    "\n"
   ]
  },
  {
   "cell_type": "markdown",
   "id": "45a75d99",
   "metadata": {},
   "source": [
    "#### Question 6:\n",
    "\n",
    "What are the unique themes in the lego dataset?"
   ]
  },
  {
   "cell_type": "code",
   "execution_count": 17,
   "id": "fbdb9c4c",
   "metadata": {},
   "outputs": [
    {
     "name": "stdout",
     "output_type": "stream",
     "text": [
      "Unique themes in the LEGO dataset:\n",
      "Promotional\n",
      "Creator Expert\n",
      "Toy Story\n",
      "Duplo\n",
      "Classic\n",
      "Education\n",
      "Architecture\n",
      "Minecraft\n",
      "Ideas\n",
      "The Lego Movie 2: The Second Part\n",
      "City\n",
      "Friends\n",
      "Marvel Super Heroes\n",
      "Ninjago\n",
      "Creator\n",
      "Seasonal\n",
      "Xtra\n",
      "BrickHeadz\n",
      "Miscellaneous\n",
      "Disney\n",
      "Technic\n",
      "Gear\n",
      "Collectable Minifigures\n",
      "Star Wars\n",
      "Speed Champions\n",
      "Jurassic World\n",
      "Overwatch\n",
      "DC Comics Super Heroes\n",
      "FORMA\n",
      "Powered Up\n",
      "Juniors\n",
      "Unikitty\n",
      "Wizarding World\n",
      "The LEGO Batman Movie\n",
      "Elves\n",
      "The Powerpuff Girls\n",
      "Explore\n",
      "The LEGO Ninjago Movie\n",
      "Nexo Knights\n",
      "Harry Potter\n",
      "Boost\n",
      "DC Super Hero Girls\n",
      "CITY\n",
      "Pirates of the Caribbean\n",
      "Dimensions\n",
      "Books\n",
      "Scooby-Doo\n",
      "Mixels\n",
      "Mindstorms\n",
      "Bionicle\n",
      "Castle\n",
      "The Angry Birds Movie\n",
      "Ghostbusters\n",
      "Space\n",
      "Legends of Chima\n",
      "Pirates\n",
      "Serious Play\n",
      "Ultra Agents\n",
      "The LEGO Movie\n",
      "The Simpsons\n",
      "Bricks and More\n",
      "Fusion\n",
      "Teenage Mutant Ninja Turtles\n",
      "HERO Factory\n",
      "The Hobbit\n",
      "The Lord of the Rings\n",
      "Master Builder Academy\n",
      "The Lone Ranger\n",
      "Games\n",
      "Power Functions\n",
      "Monster Fighters\n",
      "Life of George\n",
      "Racers\n",
      "SpongeBob SquarePants\n",
      "Make and Create\n",
      "Dino\n",
      "Cars\n",
      "Pharaoh's Quest\n",
      "Atlantis\n",
      "Prince of Persia\n",
      "Primo\n",
      "World Racers\n",
      "Power Miners\n",
      "Ben 10: Alien Force\n",
      "Indiana Jones\n",
      "Agents\n",
      "Factory\n",
      "Belville\n",
      "Batman\n",
      "Exo-Force\n",
      "Sports\n",
      "Aqua Raiders\n",
      "Trains\n",
      "Avatar The Last Airbender\n",
      "World City\n",
      "Quatro\n",
      "Vikings\n",
      "Clikits\n",
      "Bulk Bricks\n",
      "Spider-Man\n",
      "Dino 2010\n",
      "Dino Attack\n",
      "Model Team\n",
      "Town\n",
      "Alpha Team\n",
      "4 Juniors\n",
      "Hobby Set\n",
      "Discovery\n",
      "Adventurers\n",
      "Island Xtreme Stunts\n",
      "Basic\n",
      "Studios\n",
      "Jack Stone\n",
      "Spybotics\n",
      "Galidor\n",
      "Western\n",
      "Dacta\n",
      "Action Wheelers\n",
      "Scala\n",
      "Dinosaurs\n",
      "Rock Raiders\n",
      "Mickey Mouse\n",
      "Service Packs\n",
      "Aquazone\n",
      "Znap\n",
      "Freestyle\n",
      "Time Cruisers\n",
      "Boats\n",
      "Assorted\n",
      "Fabuland\n",
      "Universal Building Set\n",
      "Homemaker\n",
      "Samsonite\n",
      "PreSchool\n",
      "LEGOLAND\n",
      "Building Set with People\n",
      "Minitalia\n",
      "System\n",
      "Legoland\n"
     ]
    }
   ],
   "source": [
    "import pandas as pd\n",
    "\n",
    "lego = pd.read_csv('lego.csv')\n",
    "\n",
    "unique_themes = lego['theme'].dropna().unique()\n",
    "print(\"Unique themes in the LEGO dataset:\")\n",
    "for theme in unique_themes:\n",
    "    print(theme)\n",
    "\n",
    "\n"
   ]
  },
  {
   "cell_type": "code",
   "execution_count": null,
   "id": "c02fdeda-f72c-4bed-9024-588f9156925f",
   "metadata": {},
   "outputs": [],
   "source": []
  }
 ],
 "metadata": {
  "kernelspec": {
   "display_name": "Python 3 (ipykernel)",
   "language": "python",
   "name": "python3"
  },
  "language_info": {
   "codemirror_mode": {
    "name": "ipython",
    "version": 3
   },
   "file_extension": ".py",
   "mimetype": "text/x-python",
   "name": "python",
   "nbconvert_exporter": "python",
   "pygments_lexer": "ipython3",
   "version": "3.12.6"
  }
 },
 "nbformat": 4,
 "nbformat_minor": 5
}
